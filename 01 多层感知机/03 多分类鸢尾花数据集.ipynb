{
 "cells": [
  {
   "cell_type": "markdown",
   "metadata": {},
   "source": [
    "## 鸢尾花数据集"
   ]
  },
  {
   "cell_type": "code",
   "execution_count": 14,
   "metadata": {},
   "outputs": [],
   "source": [
    "import pandas as pd"
   ]
  },
  {
   "cell_type": "code",
   "execution_count": 15,
   "metadata": {},
   "outputs": [
    {
     "name": "stdout",
     "output_type": "stream",
     "text": [
      "<class 'pandas.core.frame.DataFrame'>\n",
      "RangeIndex: 150 entries, 0 to 149\n",
      "Data columns (total 6 columns):\n",
      " #   Column        Non-Null Count  Dtype  \n",
      "---  ------        --------------  -----  \n",
      " 0   Unnamed: 0    150 non-null    int64  \n",
      " 1   Sepal.Length  150 non-null    float64\n",
      " 2   Sepal.Width   150 non-null    float64\n",
      " 3   Petal.Length  150 non-null    float64\n",
      " 4   Petal.Width   150 non-null    float64\n",
      " 5   Species       150 non-null    object \n",
      "dtypes: float64(4), int64(1), object(1)\n",
      "memory usage: 7.2+ KB\n"
     ]
    }
   ],
   "source": [
    "data = pd.read_csv(r'../data/iris.csv')\n",
    "data.info()"
   ]
  },
  {
   "cell_type": "markdown",
   "metadata": {},
   "source": [
    "### 特征值标准化"
   ]
  },
  {
   "cell_type": "code",
   "execution_count": 16,
   "metadata": {},
   "outputs": [],
   "source": [
    "all_features = data.iloc[:,1:-1]\n",
    "all_features = all_features.apply(\n",
    "    lambda x: (x - x.mean()) / (x.std())\n",
    ")"
   ]
  },
  {
   "cell_type": "code",
   "execution_count": 17,
   "metadata": {},
   "outputs": [
    {
     "data": {
      "text/plain": [
       "array(['setosa', 'versicolor', 'virginica'], dtype=object)"
      ]
     },
     "execution_count": 17,
     "metadata": {},
     "output_type": "execute_result"
    }
   ],
   "source": [
    "all_labels = data.Species\n",
    "all_labels.unique()"
   ]
  },
  {
   "cell_type": "code",
   "execution_count": 18,
   "metadata": {},
   "outputs": [
    {
     "data": {
      "text/plain": [
       "(array([0, 0, 0, 0, 0, 0, 0, 0, 0, 0, 0, 0, 0, 0, 0, 0, 0, 0, 0, 0, 0, 0,\n",
       "        0, 0, 0, 0, 0, 0, 0, 0, 0, 0, 0, 0, 0, 0, 0, 0, 0, 0, 0, 0, 0, 0,\n",
       "        0, 0, 0, 0, 0, 0, 1, 1, 1, 1, 1, 1, 1, 1, 1, 1, 1, 1, 1, 1, 1, 1,\n",
       "        1, 1, 1, 1, 1, 1, 1, 1, 1, 1, 1, 1, 1, 1, 1, 1, 1, 1, 1, 1, 1, 1,\n",
       "        1, 1, 1, 1, 1, 1, 1, 1, 1, 1, 1, 1, 2, 2, 2, 2, 2, 2, 2, 2, 2, 2,\n",
       "        2, 2, 2, 2, 2, 2, 2, 2, 2, 2, 2, 2, 2, 2, 2, 2, 2, 2, 2, 2, 2, 2,\n",
       "        2, 2, 2, 2, 2, 2, 2, 2, 2, 2, 2, 2, 2, 2, 2, 2, 2, 2], dtype=int64),\n",
       " Index(['setosa', 'versicolor', 'virginica'], dtype='object'))"
      ]
     },
     "execution_count": 18,
     "metadata": {},
     "output_type": "execute_result"
    }
   ],
   "source": [
    "pd.factorize(all_labels)"
   ]
  },
  {
   "cell_type": "code",
   "execution_count": 19,
   "metadata": {},
   "outputs": [
    {
     "data": {
      "text/plain": [
       "array([0, 0, 0, 0, 0, 0, 0, 0, 0, 0, 0, 0, 0, 0, 0, 0, 0, 0, 0, 0, 0, 0,\n",
       "       0, 0, 0, 0, 0, 0, 0, 0, 0, 0, 0, 0, 0, 0, 0, 0, 0, 0, 0, 0, 0, 0,\n",
       "       0, 0, 0, 0, 0, 0, 1, 1, 1, 1, 1, 1, 1, 1, 1, 1, 1, 1, 1, 1, 1, 1,\n",
       "       1, 1, 1, 1, 1, 1, 1, 1, 1, 1, 1, 1, 1, 1, 1, 1, 1, 1, 1, 1, 1, 1,\n",
       "       1, 1, 1, 1, 1, 1, 1, 1, 1, 1, 1, 1, 2, 2, 2, 2, 2, 2, 2, 2, 2, 2,\n",
       "       2, 2, 2, 2, 2, 2, 2, 2, 2, 2, 2, 2, 2, 2, 2, 2, 2, 2, 2, 2, 2, 2,\n",
       "       2, 2, 2, 2, 2, 2, 2, 2, 2, 2, 2, 2, 2, 2, 2, 2, 2, 2], dtype=int64)"
      ]
     },
     "execution_count": 19,
     "metadata": {},
     "output_type": "execute_result"
    }
   ],
   "source": [
    "all_labels = pd.factorize(all_labels)[0]\n",
    "all_labels"
   ]
  },
  {
   "cell_type": "code",
   "execution_count": 20,
   "metadata": {},
   "outputs": [
    {
     "data": {
      "text/plain": [
       "{0: 'setosa', 1: 'versicolor', 2: 'virginica'}"
      ]
     },
     "execution_count": 20,
     "metadata": {},
     "output_type": "execute_result"
    }
   ],
   "source": [
    "idx_to_species = {}\n",
    "for i in range(len(data.Species.unique())):\n",
    "    idx_to_species[i] = data.Species.unique()[i]\n",
    "idx_to_species"
   ]
  },
  {
   "cell_type": "markdown",
   "metadata": {},
   "source": [
    "### 分割数据集"
   ]
  },
  {
   "cell_type": "code",
   "execution_count": 21,
   "metadata": {},
   "outputs": [],
   "source": [
    "import torch\n",
    "from sklearn.model_selection import train_test_split"
   ]
  },
  {
   "cell_type": "code",
   "execution_count": 22,
   "metadata": {},
   "outputs": [],
   "source": [
    "train_x, test_x, train_y, test_y = train_test_split(all_features.values, all_labels, shuffle=True)"
   ]
  },
  {
   "cell_type": "code",
   "execution_count": 23,
   "metadata": {},
   "outputs": [],
   "source": [
    "train_x = torch.from_numpy(train_x).type(torch.float32)\n",
    "train_y = torch.from_numpy(train_y).type(torch.int64)\n",
    "test_x = torch.from_numpy(test_x).type(torch.float32)\n",
    "test_y = torch.from_numpy(test_y).type(torch.LongTensor)"
   ]
  },
  {
   "cell_type": "code",
   "execution_count": 34,
   "metadata": {},
   "outputs": [
    {
     "data": {
      "text/plain": [
       "tensor([2, 0, 2, 2, 1, 2, 1, 2, 2, 0, 1, 1, 1, 0, 0, 2, 0, 1, 0, 1, 2, 2, 0, 0,\n",
       "        1, 0, 1, 0, 1, 2, 0, 1, 0, 2, 2, 0, 2, 1, 2, 0, 0, 0, 0, 0, 2, 0, 0, 1,\n",
       "        1, 0, 1, 1, 1, 1, 1, 0, 2, 0, 1, 1, 2, 2, 2, 1, 1, 0, 2, 2, 1, 1, 1, 0,\n",
       "        2, 0, 2, 0, 2, 2, 1, 2, 2, 0, 1, 0, 1, 2, 0, 2, 0, 0, 0, 1, 2, 0, 2, 0,\n",
       "        2, 1, 1, 0, 1, 0, 2, 2, 2, 0, 2, 1, 2, 0, 0, 0])"
      ]
     },
     "execution_count": 34,
     "metadata": {},
     "output_type": "execute_result"
    }
   ],
   "source": [
    "train_y"
   ]
  },
  {
   "cell_type": "code",
   "execution_count": 24,
   "metadata": {},
   "outputs": [],
   "source": [
    "from torch.utils.data import DataLoader, TensorDataset"
   ]
  },
  {
   "cell_type": "code",
   "execution_count": 25,
   "metadata": {},
   "outputs": [],
   "source": [
    "BATCHSIZE = 8\n",
    "train_iter = DataLoader(TensorDataset(train_x, train_y), batch_size=BATCHSIZE, shuffle=True)\n",
    "test_iter = DataLoader(TensorDataset(test_x, test_y), batch_size=BATCHSIZE)"
   ]
  },
  {
   "cell_type": "code",
   "execution_count": 26,
   "metadata": {},
   "outputs": [],
   "source": [
    "import torch\n",
    "from torch import nn\n",
    "import torch.nn.functional as F"
   ]
  },
  {
   "cell_type": "code",
   "execution_count": 38,
   "metadata": {},
   "outputs": [],
   "source": [
    "in_features = all_features.shape[1]\n",
    "class Net(nn.Module):\n",
    "    def __init__(self):\n",
    "        super().__init__()\n",
    "        self.linear1 = nn.Linear(in_features, 32)\n",
    "        self.linear2 = nn.Linear(32, 16)\n",
    "        self.linear3 = nn.Linear(16, 3)\n",
    "\n",
    "    def forward(self, x):\n",
    "        x = F.relu(self.linear1(x))\n",
    "        x = F.relu(self.linear2(x))\n",
    "        x = self.linear3(x)\n",
    "        return x\n",
    "\n",
    "model = Net()\n",
    "loss = nn.CrossEntropyLoss()\n",
    "opt = torch.optim.Adam(model.parameters(), lr=0.001)"
   ]
  },
  {
   "cell_type": "code",
   "execution_count": 40,
   "metadata": {},
   "outputs": [
    {
     "data": {
      "text/plain": [
       "tensor([[ 0.1556,  0.0832,  0.4517],\n",
       "        [ 0.2113,  0.0040,  0.2685],\n",
       "        [ 0.1795,  0.0478,  0.3906],\n",
       "        [ 0.4053, -0.2343, -0.0850],\n",
       "        [ 0.2689,  0.0015,  0.2253],\n",
       "        [ 0.2669,  0.0015,  0.2249],\n",
       "        [ 0.2990, -0.1299, -0.0426],\n",
       "        [ 0.2921, -0.0671,  0.0585]], grad_fn=<AddmmBackward0>)"
      ]
     },
     "execution_count": 40,
     "metadata": {},
     "output_type": "execute_result"
    }
   ],
   "source": [
    "x, y = next(iter(train_iter))\n",
    "model(x)"
   ]
  },
  {
   "cell_type": "code",
   "execution_count": 28,
   "metadata": {},
   "outputs": [],
   "source": [
    "def accuracy(y_pred, y_true):\n",
    "    y_pred = torch.argmax(y_pred, dim=1)\n",
    "    acc = (y_pred == y_true).float().mean()\n",
    "    return acc"
   ]
  },
  {
   "cell_type": "code",
   "execution_count": 29,
   "metadata": {},
   "outputs": [
    {
     "name": "stdout",
     "output_type": "stream",
     "text": [
      "epoch:  0 loss：  0.993 accuracy: 0.741 test_loss：  1.026 test_accuracy: 0.605\n",
      "epoch:  1 loss：  0.929 accuracy: 0.821 test_loss：  0.975 test_accuracy: 0.711\n",
      "epoch:  2 loss：  0.853 accuracy: 0.839 test_loss：  0.915 test_accuracy: 0.763\n",
      "epoch:  3 loss：  0.768 accuracy: 0.839 test_loss：  0.843 test_accuracy: 0.763\n",
      "epoch:  4 loss：  0.681 accuracy: 0.857 test_loss：  0.769 test_accuracy: 0.763\n",
      "epoch:  5 loss：  0.6 accuracy: 0.875 test_loss：  0.694 test_accuracy: 0.763\n",
      "epoch:  6 loss：  0.534 accuracy: 0.875 test_loss：  0.629 test_accuracy: 0.763\n",
      "epoch:  7 loss：  0.479 accuracy: 0.875 test_loss：  0.574 test_accuracy: 0.789\n",
      "epoch:  8 loss：  0.429 accuracy: 0.884 test_loss：  0.527 test_accuracy: 0.789\n",
      "epoch:  9 loss：  0.387 accuracy: 0.884 test_loss：  0.485 test_accuracy: 0.789\n",
      "epoch:  10 loss：  0.35 accuracy: 0.884 test_loss：  0.454 test_accuracy: 0.789\n",
      "epoch:  11 loss：  0.318 accuracy: 0.884 test_loss：  0.42 test_accuracy: 0.789\n",
      "epoch:  12 loss：  0.294 accuracy: 0.902 test_loss：  0.386 test_accuracy: 0.842\n",
      "epoch:  13 loss：  0.272 accuracy: 0.902 test_loss：  0.364 test_accuracy: 0.842\n",
      "epoch:  14 loss：  0.251 accuracy: 0.911 test_loss：  0.34 test_accuracy: 0.842\n",
      "epoch:  15 loss：  0.234 accuracy: 0.911 test_loss：  0.32 test_accuracy: 0.895\n",
      "epoch:  16 loss：  0.216 accuracy: 0.929 test_loss：  0.293 test_accuracy: 0.921\n",
      "epoch:  17 loss：  0.2 accuracy: 0.929 test_loss：  0.277 test_accuracy: 0.921\n",
      "epoch:  18 loss：  0.186 accuracy: 0.946 test_loss：  0.261 test_accuracy: 0.921\n",
      "epoch:  19 loss：  0.171 accuracy: 0.946 test_loss：  0.243 test_accuracy: 0.921\n",
      "epoch:  20 loss：  0.158 accuracy: 0.964 test_loss：  0.226 test_accuracy: 0.921\n",
      "epoch:  21 loss：  0.146 accuracy: 0.973 test_loss：  0.212 test_accuracy: 0.974\n",
      "epoch:  22 loss：  0.135 accuracy: 0.964 test_loss：  0.199 test_accuracy: 0.947\n",
      "epoch:  23 loss：  0.125 accuracy: 0.964 test_loss：  0.189 test_accuracy: 0.947\n",
      "epoch:  24 loss：  0.117 accuracy: 0.973 test_loss：  0.18 test_accuracy: 0.974\n",
      "epoch:  25 loss：  0.109 accuracy: 0.973 test_loss：  0.17 test_accuracy: 0.974\n",
      "epoch:  26 loss：  0.102 accuracy: 0.982 test_loss：  0.161 test_accuracy: 0.947\n",
      "epoch:  27 loss：  0.096 accuracy: 0.982 test_loss：  0.154 test_accuracy: 0.974\n",
      "epoch:  28 loss：  0.091 accuracy: 0.982 test_loss：  0.149 test_accuracy: 0.974\n",
      "epoch:  29 loss：  0.086 accuracy: 0.982 test_loss：  0.145 test_accuracy: 0.974\n",
      "epoch:  30 loss：  0.081 accuracy: 0.982 test_loss：  0.14 test_accuracy: 0.947\n",
      "epoch:  31 loss：  0.077 accuracy: 0.982 test_loss：  0.137 test_accuracy: 0.947\n",
      "epoch:  32 loss：  0.074 accuracy: 0.982 test_loss：  0.136 test_accuracy: 0.947\n",
      "epoch:  33 loss：  0.071 accuracy: 0.982 test_loss：  0.125 test_accuracy: 0.947\n",
      "epoch:  34 loss：  0.068 accuracy: 0.982 test_loss：  0.127 test_accuracy: 0.947\n",
      "epoch:  35 loss：  0.066 accuracy: 0.991 test_loss：  0.128 test_accuracy: 0.947\n",
      "epoch:  36 loss：  0.064 accuracy: 0.982 test_loss：  0.119 test_accuracy: 0.921\n",
      "epoch:  37 loss：  0.062 accuracy: 0.982 test_loss：  0.123 test_accuracy: 0.947\n",
      "epoch:  38 loss：  0.06 accuracy: 0.982 test_loss：  0.122 test_accuracy: 0.947\n",
      "epoch:  39 loss：  0.059 accuracy: 0.982 test_loss：  0.114 test_accuracy: 0.921\n",
      "epoch:  40 loss：  0.057 accuracy: 0.982 test_loss：  0.117 test_accuracy: 0.947\n",
      "epoch:  41 loss：  0.056 accuracy: 0.982 test_loss：  0.111 test_accuracy: 0.947\n",
      "epoch:  42 loss：  0.054 accuracy: 0.991 test_loss：  0.118 test_accuracy: 0.947\n",
      "epoch:  43 loss：  0.053 accuracy: 0.991 test_loss：  0.12 test_accuracy: 0.947\n",
      "epoch:  44 loss：  0.052 accuracy: 0.982 test_loss：  0.109 test_accuracy: 0.947\n",
      "epoch:  45 loss：  0.051 accuracy: 0.991 test_loss：  0.116 test_accuracy: 0.947\n",
      "epoch:  46 loss：  0.05 accuracy: 0.982 test_loss：  0.108 test_accuracy: 0.947\n",
      "epoch:  47 loss：  0.05 accuracy: 0.982 test_loss：  0.104 test_accuracy: 0.921\n",
      "epoch:  48 loss：  0.048 accuracy: 0.991 test_loss：  0.117 test_accuracy: 0.947\n",
      "epoch:  49 loss：  0.047 accuracy: 0.991 test_loss：  0.118 test_accuracy: 0.947\n",
      "epoch:  50 loss：  0.046 accuracy: 0.991 test_loss：  0.109 test_accuracy: 0.947\n",
      "epoch:  51 loss：  0.045 accuracy: 0.991 test_loss：  0.114 test_accuracy: 0.947\n",
      "epoch:  52 loss：  0.044 accuracy: 0.991 test_loss：  0.114 test_accuracy: 0.947\n",
      "epoch:  53 loss：  0.044 accuracy: 0.991 test_loss：  0.109 test_accuracy: 0.947\n",
      "epoch:  54 loss：  0.043 accuracy: 0.991 test_loss：  0.11 test_accuracy: 0.947\n",
      "epoch:  55 loss：  0.043 accuracy: 0.991 test_loss：  0.117 test_accuracy: 0.947\n",
      "epoch:  56 loss：  0.042 accuracy: 0.991 test_loss：  0.12 test_accuracy: 0.947\n",
      "epoch:  57 loss：  0.044 accuracy: 0.982 test_loss：  0.097 test_accuracy: 0.921\n",
      "epoch:  58 loss：  0.041 accuracy: 0.991 test_loss：  0.116 test_accuracy: 0.947\n",
      "epoch:  59 loss：  0.04 accuracy: 0.991 test_loss：  0.107 test_accuracy: 0.947\n",
      "epoch:  60 loss：  0.04 accuracy: 0.991 test_loss：  0.106 test_accuracy: 0.947\n",
      "epoch:  61 loss：  0.04 accuracy: 0.991 test_loss：  0.118 test_accuracy: 0.947\n",
      "epoch:  62 loss：  0.039 accuracy: 0.991 test_loss：  0.108 test_accuracy: 0.947\n",
      "epoch:  63 loss：  0.039 accuracy: 0.991 test_loss：  0.116 test_accuracy: 0.947\n",
      "epoch:  64 loss：  0.039 accuracy: 0.991 test_loss：  0.122 test_accuracy: 0.947\n",
      "epoch:  65 loss：  0.038 accuracy: 0.991 test_loss：  0.108 test_accuracy: 0.947\n",
      "epoch:  66 loss：  0.037 accuracy: 0.991 test_loss：  0.109 test_accuracy: 0.947\n",
      "epoch:  67 loss：  0.037 accuracy: 0.991 test_loss：  0.116 test_accuracy: 0.947\n",
      "epoch:  68 loss：  0.036 accuracy: 0.991 test_loss：  0.111 test_accuracy: 0.947\n",
      "epoch:  69 loss：  0.036 accuracy: 0.991 test_loss：  0.117 test_accuracy: 0.947\n",
      "epoch:  70 loss：  0.036 accuracy: 0.991 test_loss：  0.109 test_accuracy: 0.947\n",
      "epoch:  71 loss：  0.036 accuracy: 0.991 test_loss：  0.104 test_accuracy: 0.947\n",
      "epoch:  72 loss：  0.036 accuracy: 0.991 test_loss：  0.125 test_accuracy: 0.921\n",
      "epoch:  73 loss：  0.035 accuracy: 0.991 test_loss：  0.115 test_accuracy: 0.947\n",
      "epoch:  74 loss：  0.035 accuracy: 0.991 test_loss：  0.1 test_accuracy: 0.947\n",
      "epoch:  75 loss：  0.034 accuracy: 0.991 test_loss：  0.118 test_accuracy: 0.947\n",
      "epoch:  76 loss：  0.034 accuracy: 0.991 test_loss：  0.116 test_accuracy: 0.947\n",
      "epoch:  77 loss：  0.033 accuracy: 0.991 test_loss：  0.109 test_accuracy: 0.947\n",
      "epoch:  78 loss：  0.033 accuracy: 0.991 test_loss：  0.107 test_accuracy: 0.947\n",
      "epoch:  79 loss：  0.033 accuracy: 0.991 test_loss：  0.119 test_accuracy: 0.921\n",
      "epoch:  80 loss：  0.033 accuracy: 0.991 test_loss：  0.111 test_accuracy: 0.947\n",
      "epoch:  81 loss：  0.032 accuracy: 0.991 test_loss：  0.109 test_accuracy: 0.947\n",
      "epoch:  82 loss：  0.032 accuracy: 0.991 test_loss：  0.121 test_accuracy: 0.921\n",
      "epoch:  83 loss：  0.032 accuracy: 0.991 test_loss：  0.122 test_accuracy: 0.921\n",
      "epoch:  84 loss：  0.032 accuracy: 0.991 test_loss：  0.109 test_accuracy: 0.947\n",
      "epoch:  85 loss：  0.032 accuracy: 0.991 test_loss：  0.106 test_accuracy: 0.947\n",
      "epoch:  86 loss：  0.032 accuracy: 0.991 test_loss：  0.13 test_accuracy: 0.921\n",
      "epoch:  87 loss：  0.031 accuracy: 0.991 test_loss：  0.11 test_accuracy: 0.947\n",
      "epoch:  88 loss：  0.031 accuracy: 0.991 test_loss：  0.116 test_accuracy: 0.947\n",
      "epoch:  89 loss：  0.03 accuracy: 0.991 test_loss：  0.119 test_accuracy: 0.921\n",
      "epoch:  90 loss：  0.03 accuracy: 0.991 test_loss：  0.118 test_accuracy: 0.947\n",
      "epoch:  91 loss：  0.031 accuracy: 0.991 test_loss：  0.107 test_accuracy: 0.947\n",
      "epoch:  92 loss：  0.03 accuracy: 0.991 test_loss：  0.122 test_accuracy: 0.921\n",
      "epoch:  93 loss：  0.03 accuracy: 0.991 test_loss：  0.13 test_accuracy: 0.921\n",
      "epoch:  94 loss：  0.029 accuracy: 0.991 test_loss：  0.12 test_accuracy: 0.921\n",
      "epoch:  95 loss：  0.03 accuracy: 0.991 test_loss：  0.107 test_accuracy: 0.947\n",
      "epoch:  96 loss：  0.029 accuracy: 0.991 test_loss：  0.127 test_accuracy: 0.921\n",
      "epoch:  97 loss：  0.029 accuracy: 0.991 test_loss：  0.135 test_accuracy: 0.921\n",
      "epoch:  98 loss：  0.029 accuracy: 0.991 test_loss：  0.115 test_accuracy: 0.947\n",
      "epoch:  99 loss：  0.029 accuracy: 0.991 test_loss：  0.108 test_accuracy: 0.947\n"
     ]
    }
   ],
   "source": [
    "train_loss = []\n",
    "train_acc = []\n",
    "test_loss = []\n",
    "test_acc = []\n",
    "\n",
    "epochs = 100\n",
    "\n",
    "for epoch in range(epochs):\n",
    "    for x, y in train_iter:\n",
    "        y_pred = model(x)\n",
    "        l = loss(y_pred, y)\n",
    "        opt.zero_grad()\n",
    "        l.backward()\n",
    "        opt.step()\n",
    "    with torch.no_grad():\n",
    "        epoch_accuracy = accuracy(model(train_x), train_y)\n",
    "        epoch_loss = loss(model(train_x), train_y).data\n",
    "        \n",
    "        epoch_test_accuracy = accuracy(model(test_x), test_y)\n",
    "        epoch_test_loss = loss(model(test_x), test_y).data\n",
    "        print('epoch: ', epoch, 'loss： ', round(epoch_loss.item(), 3),\n",
    "                                'accuracy:', round(epoch_accuracy.item(), 3),\n",
    "                                'test_loss： ', round(epoch_test_loss.item(), 3),\n",
    "                                'test_accuracy:', round(epoch_test_accuracy.item(), 3)\n",
    "             )\n",
    "        \n",
    "        train_loss.append(epoch_loss)\n",
    "        train_acc.append(epoch_accuracy)\n",
    "        test_loss.append(epoch_test_loss)\n",
    "        test_acc.append(epoch_test_accuracy)"
   ]
  },
  {
   "cell_type": "code",
   "execution_count": 30,
   "metadata": {},
   "outputs": [],
   "source": [
    "import matplotlib.pyplot as plt"
   ]
  },
  {
   "cell_type": "code",
   "execution_count": 31,
   "metadata": {},
   "outputs": [
    {
     "data": {
      "text/plain": [
       "[<matplotlib.lines.Line2D at 0x2680658d2e0>]"
      ]
     },
     "execution_count": 31,
     "metadata": {},
     "output_type": "execute_result"
    },
    {
     "data": {
      "image/png": "[encoded data removed]",
      "text/plain": [
       "<Figure size 432x288 with 1 Axes>"
      ]
     },
     "metadata": {
      "needs_background": "light"
     },
     "output_type": "display_data"
    }
   ],
   "source": [
    "plt.plot(test_loss)"
   ]
  },
  {
   "cell_type": "code",
   "execution_count": 32,
   "metadata": {},
   "outputs": [
    {
     "data": {
      "text/plain": [
       "[<matplotlib.lines.Line2D at 0x26806679d90>]"
      ]
     },
     "execution_count": 32,
     "metadata": {},
     "output_type": "execute_result"
    },
    {
     "data": {
      "image/png": "[encoded data removed]",
      "text/plain": [
       "<Figure size 432x288 with 1 Axes>"
      ]
     },
     "metadata": {
      "needs_background": "light"
     },
     "output_type": "display_data"
    }
   ],
   "source": [
    "plt.plot(train_loss)"
   ]
  },
  {
   "cell_type": "code",
   "execution_count": null,
   "metadata": {},
   "outputs": [],
   "source": []
  }
 ],
 "metadata": {
  "interpreter": {
   "hash": "e65664dee6887b35c1fe798ba05b8f88cd60f635ec33c994e0595cfdf77d350f"
  },
  "kernelspec": {
   "display_name": "Python 3.8.11 64-bit ('pytorch': conda)",
   "name": "python3"
  },
  "language_info": {
   "codemirror_mode": {
    "name": "ipython",
    "version": 3
   },
   "file_extension": ".py",
   "mimetype": "text/x-python",
   "name": "python",
   "nbconvert_exporter": "python",
   "pygments_lexer": "ipython3",
   "version": "3.8.12"
  },
  "orig_nbformat": 4
 },
 "nbformat": 4,
 "nbformat_minor": 2
}
