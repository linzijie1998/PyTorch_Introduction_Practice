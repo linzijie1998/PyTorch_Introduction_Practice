{
 "cells": [
  {
   "cell_type": "markdown",
   "source": [
    "## 信用卡欺诈数据集 二分类问题"
   ],
   "metadata": {}
  },
  {
   "cell_type": "code",
   "execution_count": 1,
   "source": [
    "import pandas as pd"
   ],
   "outputs": [],
   "metadata": {}
  },
  {
   "cell_type": "code",
   "execution_count": 2,
   "source": [
    "data = pd.read_csv(r'../data/credit-a.csv')\r\n",
    "data.head()"
   ],
   "outputs": [
    {
     "output_type": "execute_result",
     "data": {
      "text/html": [
       "<div>\n",
       "<style scoped>\n",
       "    .dataframe tbody tr th:only-of-type {\n",
       "        vertical-align: middle;\n",
       "    }\n",
       "\n",
       "    .dataframe tbody tr th {\n",
       "        vertical-align: top;\n",
       "    }\n",
       "\n",
       "    .dataframe thead th {\n",
       "        text-align: right;\n",
       "    }\n",
       "</style>\n",
       "<table border=\"1\" class=\"dataframe\">\n",
       "  <thead>\n",
       "    <tr style=\"text-align: right;\">\n",
       "      <th></th>\n",
       "      <th>0</th>\n",
       "      <th>30.83</th>\n",
       "      <th>0.1</th>\n",
       "      <th>0.2</th>\n",
       "      <th>0.3</th>\n",
       "      <th>9</th>\n",
       "      <th>0.4</th>\n",
       "      <th>1.25</th>\n",
       "      <th>0.5</th>\n",
       "      <th>0.6</th>\n",
       "      <th>1</th>\n",
       "      <th>1.1</th>\n",
       "      <th>0.7</th>\n",
       "      <th>202</th>\n",
       "      <th>0.8</th>\n",
       "      <th>-1</th>\n",
       "    </tr>\n",
       "  </thead>\n",
       "  <tbody>\n",
       "    <tr>\n",
       "      <th>0</th>\n",
       "      <td>1</td>\n",
       "      <td>58.67</td>\n",
       "      <td>4.460</td>\n",
       "      <td>0</td>\n",
       "      <td>0</td>\n",
       "      <td>8</td>\n",
       "      <td>1</td>\n",
       "      <td>3.04</td>\n",
       "      <td>0</td>\n",
       "      <td>0</td>\n",
       "      <td>6</td>\n",
       "      <td>1</td>\n",
       "      <td>0</td>\n",
       "      <td>43</td>\n",
       "      <td>560.0</td>\n",
       "      <td>-1</td>\n",
       "    </tr>\n",
       "    <tr>\n",
       "      <th>1</th>\n",
       "      <td>1</td>\n",
       "      <td>24.50</td>\n",
       "      <td>0.500</td>\n",
       "      <td>0</td>\n",
       "      <td>0</td>\n",
       "      <td>8</td>\n",
       "      <td>1</td>\n",
       "      <td>1.50</td>\n",
       "      <td>0</td>\n",
       "      <td>1</td>\n",
       "      <td>0</td>\n",
       "      <td>1</td>\n",
       "      <td>0</td>\n",
       "      <td>280</td>\n",
       "      <td>824.0</td>\n",
       "      <td>-1</td>\n",
       "    </tr>\n",
       "    <tr>\n",
       "      <th>2</th>\n",
       "      <td>0</td>\n",
       "      <td>27.83</td>\n",
       "      <td>1.540</td>\n",
       "      <td>0</td>\n",
       "      <td>0</td>\n",
       "      <td>9</td>\n",
       "      <td>0</td>\n",
       "      <td>3.75</td>\n",
       "      <td>0</td>\n",
       "      <td>0</td>\n",
       "      <td>5</td>\n",
       "      <td>0</td>\n",
       "      <td>0</td>\n",
       "      <td>100</td>\n",
       "      <td>3.0</td>\n",
       "      <td>-1</td>\n",
       "    </tr>\n",
       "    <tr>\n",
       "      <th>3</th>\n",
       "      <td>0</td>\n",
       "      <td>20.17</td>\n",
       "      <td>5.625</td>\n",
       "      <td>0</td>\n",
       "      <td>0</td>\n",
       "      <td>9</td>\n",
       "      <td>0</td>\n",
       "      <td>1.71</td>\n",
       "      <td>0</td>\n",
       "      <td>1</td>\n",
       "      <td>0</td>\n",
       "      <td>1</td>\n",
       "      <td>2</td>\n",
       "      <td>120</td>\n",
       "      <td>0.0</td>\n",
       "      <td>-1</td>\n",
       "    </tr>\n",
       "    <tr>\n",
       "      <th>4</th>\n",
       "      <td>0</td>\n",
       "      <td>32.08</td>\n",
       "      <td>4.000</td>\n",
       "      <td>0</td>\n",
       "      <td>0</td>\n",
       "      <td>6</td>\n",
       "      <td>0</td>\n",
       "      <td>2.50</td>\n",
       "      <td>0</td>\n",
       "      <td>1</td>\n",
       "      <td>0</td>\n",
       "      <td>0</td>\n",
       "      <td>0</td>\n",
       "      <td>360</td>\n",
       "      <td>0.0</td>\n",
       "      <td>-1</td>\n",
       "    </tr>\n",
       "  </tbody>\n",
       "</table>\n",
       "</div>"
      ],
      "text/plain": [
       "   0  30.83    0.1  0.2  0.3  9  0.4  1.25  0.5  0.6  1  1.1  0.7  202    0.8  \\\n",
       "0  1  58.67  4.460    0    0  8    1  3.04    0    0  6    1    0   43  560.0   \n",
       "1  1  24.50  0.500    0    0  8    1  1.50    0    1  0    1    0  280  824.0   \n",
       "2  0  27.83  1.540    0    0  9    0  3.75    0    0  5    0    0  100    3.0   \n",
       "3  0  20.17  5.625    0    0  9    0  1.71    0    1  0    1    2  120    0.0   \n",
       "4  0  32.08  4.000    0    0  6    0  2.50    0    1  0    0    0  360    0.0   \n",
       "\n",
       "   -1  \n",
       "0  -1  \n",
       "1  -1  \n",
       "2  -1  \n",
       "3  -1  \n",
       "4  -1  "
      ]
     },
     "metadata": {},
     "execution_count": 2
    }
   ],
   "metadata": {}
  },
  {
   "cell_type": "markdown",
   "source": [
    "### 特征值为前15列\r\n",
    "### 输出为最后一列，需要把-1替换为0"
   ],
   "metadata": {}
  },
  {
   "cell_type": "code",
   "execution_count": 5,
   "source": [
    "all_features = data.iloc[:,:-1]\r\n",
    "all_labels = data.iloc[:,-1].replace(-1, 0)"
   ],
   "outputs": [],
   "metadata": {}
  },
  {
   "cell_type": "markdown",
   "source": [
    "### 将特征值标准化"
   ],
   "metadata": {}
  },
  {
   "cell_type": "code",
   "execution_count": 6,
   "source": [
    "all_features = all_features.apply(\r\n",
    "    lambda x: (x - x.mean()) / (x.std())\r\n",
    ")"
   ],
   "outputs": [],
   "metadata": {}
  },
  {
   "cell_type": "code",
   "execution_count": 7,
   "source": [
    "import torch"
   ],
   "outputs": [],
   "metadata": {}
  },
  {
   "cell_type": "code",
   "execution_count": 8,
   "source": [
    "X = torch.from_numpy(all_features.values).type(torch.float32)\r\n",
    "Y = torch.from_numpy(all_labels.values.reshape(-1, 1)).type(torch.float32)"
   ],
   "outputs": [],
   "metadata": {}
  },
  {
   "cell_type": "code",
   "execution_count": 9,
   "source": [
    "from torch.utils.data import TensorDataset, DataLoader"
   ],
   "outputs": [],
   "metadata": {}
  },
  {
   "cell_type": "markdown",
   "source": [
    "### 当数据集很小时，可以使用k折验证法验证模型的效果\r\n",
    "### k折验证法：将数据集分割为K个部分，取其中一部分作为测试集、剩余部分作为训练集"
   ],
   "metadata": {}
  },
  {
   "cell_type": "code",
   "execution_count": 10,
   "source": [
    "def k_folder_split(k, i, features, labels, batch_size):\r\n",
    "    assert i <= k\r\n",
    "    folder_size = features.shape[0] // k\r\n",
    "    l = i * folder_size\r\n",
    "    r = (i + 1) * folder_size\r\n",
    "    train_features = torch.cat([features[:l], features[r:]])\r\n",
    "    test_features = features[l:r]\r\n",
    "    train_labels = torch.cat([labels[:l], labels[r:]])\r\n",
    "    test_labels = labels[l:r]\r\n",
    "    return (\r\n",
    "        DataLoader(TensorDataset(train_features, train_labels), batch_size=batch_size, shuffle=True),\r\n",
    "        DataLoader(TensorDataset(test_features, test_labels), batch_size=batch_size)\r\n",
    "    )"
   ],
   "outputs": [],
   "metadata": {}
  },
  {
   "cell_type": "code",
   "execution_count": 11,
   "source": [
    "from torch import nn"
   ],
   "outputs": [],
   "metadata": {}
  },
  {
   "cell_type": "markdown",
   "source": [
    "### 使用两层Linear层，然后sigmoid激活\r\n",
    "### 二分类问题使用nn.BCELoss()计算损失"
   ],
   "metadata": {}
  },
  {
   "cell_type": "code",
   "execution_count": 17,
   "source": [
    "in_features = X.shape[1]\r\n",
    "model = nn.Sequential(\r\n",
    "    nn.Linear(in_features, 32),\r\n",
    "    nn.Linear(32, 1),\r\n",
    "    nn.Sigmoid()\r\n",
    ")\r\n",
    "loss = nn.BCELoss()\r\n",
    "opt = torch.optim.Adam(model.parameters(), lr=0.01)"
   ],
   "outputs": [],
   "metadata": {}
  },
  {
   "cell_type": "code",
   "execution_count": 18,
   "source": [
    "k = 5\r\n",
    "num_epochs = 50\r\n",
    "BATCHSIZE = 16\r\n",
    "\r\n",
    "for i in range(k):\r\n",
    "    train_iter, test_iter = k_folder_split(k, i, X, Y, batch_size=BATCHSIZE)\r\n",
    "    acc = 0\r\n",
    "    count = 0\r\n",
    "    for epoch in range(num_epochs):\r\n",
    "        for x, y in train_iter:\r\n",
    "            opt.zero_grad()\r\n",
    "            l = loss(model(x), y)\r\n",
    "            l.backward()\r\n",
    "            opt.step()\r\n",
    "        with torch.no_grad():\r\n",
    "            total = 0\r\n",
    "            correct = 0\r\n",
    "            for x, y in test_iter:\r\n",
    "                acc += ((model(x).data.numpy() > 0.5).astype('int') == y.numpy()).mean()\r\n",
    "                count += 1\r\n",
    "    print(f'{i + 1} of {k} accuracy: {round((acc / count) * 100, 3)}%')\r\n",
    "\r\n"
   ],
   "outputs": [
    {
     "output_type": "stream",
     "name": "stdout",
     "text": [
      "1 of 5 accuracy: 68.347%\n",
      "2 of 5 accuracy: 84.583%\n",
      "3 of 5 accuracy: 93.069%\n",
      "4 of 5 accuracy: 85.528%\n",
      "5 of 5 accuracy: 92.125%\n"
     ]
    }
   ],
   "metadata": {}
  }
 ],
 "metadata": {
  "orig_nbformat": 4,
  "language_info": {
   "name": "python",
   "version": "3.8.11",
   "mimetype": "text/x-python",
   "codemirror_mode": {
    "name": "ipython",
    "version": 3
   },
   "pygments_lexer": "ipython3",
   "nbconvert_exporter": "python",
   "file_extension": ".py"
  },
  "kernelspec": {
   "name": "python3",
   "display_name": "Python 3.8.11 64-bit ('pytorch': conda)"
  },
  "interpreter": {
   "hash": "e65664dee6887b35c1fe798ba05b8f88cd60f635ec33c994e0595cfdf77d350f"
  }
 },
 "nbformat": 4,
 "nbformat_minor": 2
}