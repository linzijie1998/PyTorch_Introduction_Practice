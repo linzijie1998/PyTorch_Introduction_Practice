{
 "cells": [
  {
   "cell_type": "markdown",
   "metadata": {},
   "source": [
    "### 图片分类\n",
    "### 1. 创建两个文件夹train和test\n",
    "### 2. 在train和test文件夹下分别创建cloudy、rain、shine和sunrise四个文件夹\n",
    "### 3. train数据和test数据 1:4"
   ]
  },
  {
   "cell_type": "code",
   "execution_count": 8,
   "metadata": {},
   "outputs": [],
   "source": [
    "import os\n",
    "import shutil"
   ]
  },
  {
   "cell_type": "code",
   "execution_count": 1,
   "metadata": {},
   "outputs": [],
   "source": [
    "base_dir = r'../data/4weather_classification'"
   ]
  },
  {
   "cell_type": "code",
   "execution_count": 4,
   "metadata": {},
   "outputs": [],
   "source": [
    "if not os.path.isdir(base_dir):\n",
    "    os.mkdir(base_dir)\n",
    "    print(f'成功创建文件夹：{base_dir}')\n",
    "    train_dir = os.path.join(base_dir, 'train')\n",
    "    test_dir = os.path.join(base_dir, 'test')\n",
    "    if not os.path.isdir(train_dir):\n",
    "        os.mkdir(train_dir)\n",
    "        print(f'成功创建文件夹：{train_dir}')\n",
    "    if not os.path.isdir(test_dir):\n",
    "        os.mkdir(test_dir)\n",
    "        print(f'成功创建文件夹：{test_dir}')"
   ]
  },
  {
   "cell_type": "code",
   "execution_count": 5,
   "metadata": {},
   "outputs": [],
   "source": [
    "specises = ['cloudy', 'rain', 'shine', 'sunrise']"
   ]
  },
  {
   "cell_type": "code",
   "execution_count": 6,
   "metadata": {},
   "outputs": [],
   "source": [
    "for train_or_test in ['train', 'test']:\n",
    "    for s in specises:\n",
    "        os.mkdir(os.path.join(base_dir, train_or_test, s))"
   ]
  },
  {
   "cell_type": "code",
   "execution_count": 7,
   "metadata": {},
   "outputs": [],
   "source": [
    "imgs_dir = r'../data/4weather'"
   ]
  },
  {
   "cell_type": "code",
   "execution_count": 9,
   "metadata": {},
   "outputs": [],
   "source": [
    "for i, img in enumerate(os.listdir(imgs_dir)):\n",
    "    for s in specises:\n",
    "        if s in img:\n",
    "            source_dir = os.path.join(imgs_dir, img)\n",
    "            if i%5 == 0:\n",
    "                destination_dir = os.path.join(base_dir, 'test', s, img)\n",
    "            else:\n",
    "                destination_dir = os.path.join(base_dir, 'train', s, img)\n",
    "            shutil.copy(source_dir, destination_dir)"
   ]
  },
  {
   "cell_type": "code",
   "execution_count": null,
   "metadata": {},
   "outputs": [],
   "source": []
  }
 ],
 "metadata": {
  "interpreter": {
   "hash": "e65664dee6887b35c1fe798ba05b8f88cd60f635ec33c994e0595cfdf77d350f"
  },
  "kernelspec": {
   "display_name": "Python 3.8.11 64-bit ('pytorch': conda)",
   "name": "python3"
  },
  "language_info": {
   "codemirror_mode": {
    "name": "ipython",
    "version": 3
   },
   "file_extension": ".py",
   "mimetype": "text/x-python",
   "name": "python",
   "nbconvert_exporter": "python",
   "pygments_lexer": "ipython3",
   "version": "3.8.11"
  },
  "orig_nbformat": 4
 },
 "nbformat": 4,
 "nbformat_minor": 2
}
