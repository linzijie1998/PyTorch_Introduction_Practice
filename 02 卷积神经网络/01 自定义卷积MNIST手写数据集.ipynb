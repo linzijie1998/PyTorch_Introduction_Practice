{
 "cells": [
  {
   "cell_type": "code",
   "execution_count": 2,
   "metadata": {},
   "outputs": [],
   "source": [
    "from torchvision import datasets, transforms"
   ]
  },
  {
   "cell_type": "code",
   "execution_count": 3,
   "metadata": {},
   "outputs": [],
   "source": [
    "trans = transforms.Compose([\n",
    "    transforms.ToTensor()\n",
    "])"
   ]
  },
  {
   "cell_type": "code",
   "execution_count": 5,
   "metadata": {},
   "outputs": [],
   "source": [
    "train_dataset = datasets.MNIST(\n",
    "    r'../data', train=True, transform=trans, download=True\n",
    ")\n",
    "test_dataset = datasets.MNIST(\n",
    "    r'../data', train=False, transform=trans, download=True\n",
    ")"
   ]
  },
  {
   "cell_type": "code",
   "execution_count": 6,
   "metadata": {},
   "outputs": [],
   "source": [
    "from torch.utils.data import DataLoader"
   ]
  },
  {
   "cell_type": "code",
   "execution_count": 7,
   "metadata": {},
   "outputs": [],
   "source": [
    "BATCHSIZE = 64\n",
    "train_iter = DataLoader(train_dataset, batch_size=BATCHSIZE, shuffle=True)\n",
    "test_iter = DataLoader(test_dataset, batch_size=BATCHSIZE)"
   ]
  },
  {
   "cell_type": "code",
   "execution_count": 9,
   "metadata": {},
   "outputs": [],
   "source": [
    "import numpy as np\n",
    "import matplotlib.pyplot as plt"
   ]
  },
  {
   "cell_type": "code",
   "execution_count": 10,
   "metadata": {},
   "outputs": [],
   "source": [
    "def imshow(img):\n",
    "    npimg = img.numpy()\n",
    "    npimg = np.squeeze(npimg)\n",
    "    plt.imshow(npimg)"
   ]
  },
  {
   "cell_type": "code",
   "execution_count": 11,
   "metadata": {},
   "outputs": [
    {
     "data": {
      "text/plain": [
       "(torch.Size([64, 1, 28, 28]), torch.Size([64]))"
      ]
     },
     "execution_count": 11,
     "metadata": {},
     "output_type": "execute_result"
    }
   ],
   "source": [
    "imgs, labels = next(iter(train_iter))\n",
    "imgs.shape, labels.shape"
   ]
  },
  {
   "cell_type": "code",
   "execution_count": 13,
   "metadata": {},
   "outputs": [
    {
     "data": {
      "image/png": "[encoded data removed]",
      "text/plain": [
       "<Figure size 720x72 with 10 Axes>"
      ]
     },
     "metadata": {
      "needs_background": "light"
     },
     "output_type": "display_data"
    }
   ],
   "source": [
    "plt.figure(figsize=(10, 1))\n",
    "for i, (img, label) in enumerate(zip(imgs[:10], labels[:10])):\n",
    "    plt.subplot(1, 10, i + 1)\n",
    "    plt.title(label.item())\n",
    "    imshow(img)"
   ]
  },
  {
   "cell_type": "code",
   "execution_count": 14,
   "metadata": {},
   "outputs": [],
   "source": [
    "import torch\n",
    "from torch import nn\n",
    "import torch.nn.functional as F"
   ]
  },
  {
   "cell_type": "code",
   "execution_count": 15,
   "metadata": {},
   "outputs": [],
   "source": [
    "class Net(nn.Module):\n",
    "    def __init__(self):\n",
    "        super().__init__()\n",
    "        self.conv1 = nn.Conv2d(1, 6, 5)\n",
    "        self.conv2 = nn.Conv2d(6, 16, 5)\n",
    "        self.pool = nn.MaxPool2d((2, 2))\n",
    "        # (28 - 4) / 2 = 12\n",
    "        # (12 - 4) / 2 = 4\n",
    "        self.linear1 = nn.Linear(16*4*4, 128)\n",
    "        self.linear2 = nn.Linear(128, 10)\n",
    "\n",
    "    def forward(self, x):\n",
    "        x = F.relu(self.conv1(x))\n",
    "        x = self.pool(x)\n",
    "        x = F.relu(self.conv2(x))\n",
    "        x = self.pool(x)\n",
    "        x = x.view(-1, 16*4*4)\n",
    "        x = F.relu(self.linear1(x))\n",
    "        x = self.linear2(x)\n",
    "        return x\n"
   ]
  },
  {
   "cell_type": "code",
   "execution_count": 17,
   "metadata": {},
   "outputs": [],
   "source": [
    "def fit(epoch, model, train_iter, test_iter, loss, opt, device):\n",
    "\n",
    "    model.to(device)\n",
    "\n",
    "    train_correct = 0\n",
    "    train_total = 0\n",
    "    train_running_loss = 0\n",
    "\n",
    "    for x, y in train_iter:\n",
    "        x, y = x.to(device), y.to(device)\n",
    "        y_hat = model(x)\n",
    "        opt.zero_grad()\n",
    "        l = loss(y_hat, y)\n",
    "        l.backward()\n",
    "        opt.step()\n",
    "        with torch.no_grad():\n",
    "            y_hat = torch.argmax(y_hat, dim=1)\n",
    "            train_correct += (y_hat == y).sum().item()\n",
    "            train_total += y.size(0)\n",
    "            train_running_loss += l.item()\n",
    "    train_loss = train_running_loss / len(train_iter.dataset)\n",
    "    train_acc = train_correct / train_total\n",
    "\n",
    "    test_correct = 0\n",
    "    test_total = 0\n",
    "    test_running_loss = 0\n",
    "    with torch.no_grad():\n",
    "        for x, y in test_iter:\n",
    "            x, y = x.to(device), y.to(device)\n",
    "            y_hat = model(x)\n",
    "            l = loss(y_hat, y)\n",
    "            y_hat = torch.argmax(y_hat, dim=1)\n",
    "            test_correct += (y_hat == y).sum().item()\n",
    "            test_total += y.size(0)\n",
    "            test_running_loss += l.item()\n",
    "    test_loss = test_running_loss / len(test_iter.dataset)\n",
    "    test_acc = test_correct / test_total\n",
    "\n",
    "    print(\n",
    "        'epoch: ', epoch,\n",
    "        'train_loss: ', round(train_loss, 3),\n",
    "        'train_accura', round(train_acc * 100, 3), '%',\n",
    "        'test_loss: ', round(test_loss, 3),\n",
    "        'test_accura', round(test_acc * 100, 3), '%',\n",
    "    )\n",
    "\n",
    "    return train_loss, train_acc, test_loss, test_acc\n",
    "            \n"
   ]
  },
  {
   "cell_type": "code",
   "execution_count": 20,
   "metadata": {},
   "outputs": [],
   "source": [
    "model = Net()\n",
    "loss = nn.CrossEntropyLoss()\n",
    "opt = torch.optim.Adam(model.parameters(), lr=0.001)"
   ]
  },
  {
   "cell_type": "code",
   "execution_count": 21,
   "metadata": {},
   "outputs": [
    {
     "name": "stdout",
     "output_type": "stream",
     "text": [
      "epoch:  0 train_loss:  0.004 train_accura 92.19 % test_loss:  0.001 test_accura 97.8 %\n",
      "epoch:  1 train_loss:  0.001 train_accura 97.813 % test_loss:  0.001 test_accura 98.54 %\n",
      "epoch:  2 train_loss:  0.001 train_accura 98.48 % test_loss:  0.001 test_accura 98.67 %\n",
      "epoch:  3 train_loss:  0.001 train_accura 98.742 % test_loss:  0.001 test_accura 98.63 %\n",
      "epoch:  4 train_loss:  0.001 train_accura 98.96 % test_loss:  0.001 test_accura 98.85 %\n",
      "epoch:  5 train_loss:  0.0 train_accura 99.035 % test_loss:  0.0 test_accura 99.0 %\n",
      "epoch:  6 train_loss:  0.0 train_accura 99.202 % test_loss:  0.0 test_accura 98.98 %\n",
      "epoch:  7 train_loss:  0.0 train_accura 99.318 % test_loss:  0.001 test_accura 98.87 %\n",
      "epoch:  8 train_loss:  0.0 train_accura 99.378 % test_loss:  0.001 test_accura 98.73 %\n",
      "epoch:  9 train_loss:  0.0 train_accura 99.487 % test_loss:  0.001 test_accura 98.81 %\n"
     ]
    }
   ],
   "source": [
    "num_epochs = 10\n",
    "\n",
    "all_train_loss = []\n",
    "all_train_acc = []\n",
    "all_test_loss = []\n",
    "all_test_acc = []\n",
    "\n",
    "device = torch.device('cuda:0' if torch.cuda.is_available() else 'cpu')\n",
    "\n",
    "for epoch in range(num_epochs):\n",
    "    train_loss, train_acc, test_loss, test_acc = fit(\n",
    "        epoch, model, train_iter, test_iter, loss, opt, device\n",
    "    )\n",
    "    all_train_loss.append(train_loss)\n",
    "    all_train_acc.append(train_acc)\n",
    "    all_test_loss.append(test_loss)\n",
    "    all_test_acc.append(test_acc)"
   ]
  },
  {
   "cell_type": "code",
   "execution_count": 22,
   "metadata": {},
   "outputs": [
    {
     "data": {
      "text/plain": [
       "<matplotlib.legend.Legend at 0x1ce29382130>"
      ]
     },
     "execution_count": 22,
     "metadata": {},
     "output_type": "execute_result"
    },
    {
     "data": {
      "image/png": "[encoded data removed]",
      "text/plain": [
       "<Figure size 432x288 with 1 Axes>"
      ]
     },
     "metadata": {
      "needs_background": "light"
     },
     "output_type": "display_data"
    }
   ],
   "source": [
    "plt.title('loss chart')\n",
    "plt.ylabel('loss')\n",
    "plt.xlabel('epoch')\n",
    "plt.plot(all_train_loss, color='r', label='train_loss')\n",
    "plt.plot(all_test_loss, color='g', label='test_loss')\n",
    "plt.legend()"
   ]
  },
  {
   "cell_type": "code",
   "execution_count": 23,
   "metadata": {},
   "outputs": [
    {
     "data": {
      "text/plain": [
       "<matplotlib.legend.Legend at 0x1ce292d8d90>"
      ]
     },
     "execution_count": 23,
     "metadata": {},
     "output_type": "execute_result"
    },
    {
     "data": {
      "image/png": "[encoded data removed]",
      "text/plain": [
       "<Figure size 432x288 with 1 Axes>"
      ]
     },
     "metadata": {
      "needs_background": "light"
     },
     "output_type": "display_data"
    }
   ],
   "source": [
    "plt.title('accuracy chart')\n",
    "plt.ylabel('loss')\n",
    "plt.xlabel('epoch')\n",
    "plt.plot(all_train_acc, color='r', label='train_acc')\n",
    "plt.plot(all_test_acc, color='g', label='test_acc')\n",
    "plt.legend()"
   ]
  },
  {
   "cell_type": "code",
   "execution_count": null,
   "metadata": {},
   "outputs": [],
   "source": []
  }
 ],
 "metadata": {
  "interpreter": {
   "hash": "e65664dee6887b35c1fe798ba05b8f88cd60f635ec33c994e0595cfdf77d350f"
  },
  "kernelspec": {
   "display_name": "Python 3.8.11 64-bit ('pytorch': conda)",
   "name": "python3"
  },
  "language_info": {
   "codemirror_mode": {
    "name": "ipython",
    "version": 3
   },
   "file_extension": ".py",
   "mimetype": "text/x-python",
   "name": "python",
   "nbconvert_exporter": "python",
   "pygments_lexer": "ipython3",
   "version": "3.8.11"
  },
  "orig_nbformat": 4
 },
 "nbformat": 4,
 "nbformat_minor": 2
}
